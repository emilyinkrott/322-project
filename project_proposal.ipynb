{
 "cells": [
  {
   "cell_type": "markdown",
   "metadata": {},
   "source": [
    "# Project Proposal: Pokemon Battle Predictor\n",
    "**Team:** Emily Inkrott and Greeley Lindberg\n",
    "\n",
    "\n",
    "## Dataset\n",
    "Source: [kaggle.com (Pokemon- Weedle’s Cave)](https://www.kaggle.com/datasets/terminus7/pokemon-challenge?select=pokemon.csv)\n",
    "\n",
    "For our project, we will be using the Weedle’s Cave dataset from kaggle.com. This dataset consists of three CSV files. The first file, combats.csv,  consists of two columns of pokedex numbers, indicating two pokemon in a battle. The third attribute is the number of the pokemon that won that battle. The second csv file, pokemon.csv, has information on all of the pokemon in combat.csv, including their numbers, names, types, base stats, generation introduced, and whether or not the pokemon is legendary. The third csv file is a testing set, and likely will not be used.\n",
    "\n",
    "For our project, we will be using the “winner” attribute in combats.csv as our class label. We will be attempting to predict the outcome of a pokemon battle given the numbers using the information provided in pokemon.csv.\n",
    "\n",
    "## Implementation\n",
    "Implementing this could pose a few issues. The first issue we’re likely to encounter would be with joining the two tables together. Finding a way to match up the Pokedex numbers from the first and second battlers and gather their respective information into a single instance will require an adjusted implementation of an inner join. There will be attributes that we can ask our classifier to ignore; for instance, the Pokemon’s name simply serves as a key, which is redundant next to the Pokedex number. It will be removed, since it does not have any impact on battles.\n",
    "\n",
    "There is a large degree of variation in the dataset regarding Pokemon types. Not having a second type is represented by an empty string, and may cause issues in our trees. We are interested to see if this has any impact on our predictions. \n",
    "\n",
    "Finally, we can see that there will be a large number of attributes in the table once we have completed our adjusted inner join. To manage this, we intend to use different subsets of attributes in our random forest’s tree generation. For instance, one tree may only make use of Pokemons’ base stats, while another relies solely on type match ups to make a prediction. This should give us a diverse set of weak classifiers to make better predictions as an ensemble.\n",
    "\n",
    "\n",
    "## Potential Impacts\n",
    "Pokemon has a very large competitive community, complete with professional competitions. The findings from this dataset could show interesting trends pertaining to Pokemon stats, such as the strength of Pokemon across generations or the impacts of weight class. Our predictor could also assist competitive players in optimizing their party when facing off against a known opponent. Furthermore, this dataset could help casual and beginner players choose the right Pokemon for battle, whether it be competitively or in-game against CPUs."
   ]
  }
 ],
 "metadata": {
  "language_info": {
   "name": "python"
  },
  "orig_nbformat": 4
 },
 "nbformat": 4,
 "nbformat_minor": 2
}
