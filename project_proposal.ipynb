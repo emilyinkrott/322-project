{
 "cells": [
  {
   "cell_type": "markdown",
   "metadata": {},
   "source": [
    "# Project Proposal: Pokemon Battle Predictor\n",
    "**Team:** Emily Inkrott and Greeley Lindberg\n",
    "\n",
    "This project aims to...\n",
    "\n",
    "## Dataset\n",
    "* Include source, format, and contents. \n",
    "* Include brief description of the attributes and what you will use as class information (i.e. what attribute(s) you will try to predict)\n",
    "\n",
    "## Implementation\n",
    "* Anticipated challenges in pre-processing and/or classification\n",
    "* If the number of attributes is large, how will you explore feature selection techniques to pare down the attributes?\n",
    "\n",
    "## Potential Impacts\n",
    "* Why are these results useful?\n",
    "* Who are your stakeholders interested in these results?"
   ]
  }
 ],
 "metadata": {
  "language_info": {
   "name": "python"
  },
  "orig_nbformat": 4
 },
 "nbformat": 4,
 "nbformat_minor": 2
}
