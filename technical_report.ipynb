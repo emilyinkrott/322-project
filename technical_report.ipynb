{
 "cells": [
  {
   "cell_type": "markdown",
   "metadata": {},
   "source": [
    "# Pokemon Battle Predictor\n",
    "### By Greeley Lindbergh and Emily Inkrott\n",
    "\n",
    "## Introduction\n",
    "*This section must briefly describe the dataset you used and the classification task you implemented (e.g., what were you trying to classify in the dataset). You should also briefly describe your findings (e.g., what classifier approach performed the best).*\n",
    "\n",
    "For our project, we worked with a **Pokemon battle dataset**. Looking at a list of Pokemon matchups, **we attempted to determine which Pokemon would win the battle** based on their individual charictaristics, similar to the PA7 basketball classification task."
   ]
  },
  {
   "cell_type": "markdown",
   "metadata": {},
   "source": [
    "## Data Analysis\n",
    "\n",
    "Our dataset initially consisted of three different csv files: `combats.csv`, which had a list of matchups between two pokemon and the winner for each battle, `pokemon.csv`, which listed information on every pokemon in `combats.csv`, and a third csv file containing a testing set, which was not used in the project. We combined `pokemon.csv` and `combats.csv` into `pokemon_combats.csv` for our exploratory data analysis and inital classifier performance analysis. Later, we decided that calculating advantages would give us better results than using individual stat values, leading to the creation of `pokemon_combats_advantage.csv`.\n",
    "\n",
    "The following attributes are in `pokemon_combats_advantage.csv`:\n",
    "1. **First_pokemon**: the ID number of the first battler\n",
    "2. **Name_first**: the name of the first battler\n",
    "3. **Type_1_first**: the primary type of the first battler\n",
    "4. **Type_2_first**: the primary type of the second battler\n",
    "5. **Generation_first**: the generation of Pokemon games that the first battler was introduced in\n",
    "6. **Legendary_first**: whether or not the first battler is a legendary Pokemon\n",
    "7. **Second_pokemon, Name_second, Type 1_second, Type 2_second, Generation_second, Legendary_second**, which are all the same as their \"first\" counterparts, but for the second battler\n",
    "8. **HP**: which Pokemon has the higher HP stat (either 1 or 2)\n",
    "9. **Attack**: which Pokemon has the higher attack stat (either 1 or 2)\n",
    "10. **Defense**: which Pokemon has the higher defense stat (either 1 or 2)\n",
    "10. **Sp. Atk**: which Pokemon has the higher special attack stat (either 1 or 2)\n",
    "10. **Sp. Def**: which Pokemon has the higher special defense stat (either 1 or 2)\n",
    "10. **Speed**: which Pokemon has the higher speed stat (either 1 or 2)\n",
    "10. **Winner**: which Pokemon won the battle"
   ]
  },
  {
   "cell_type": "markdown",
   "metadata": {},
   "source": [
    "During our initial EDA, we looked at several attributes to see how they might correlate with win rates. **We discovered two main indicators of who would win the battle: type, and speed.** These charts can be found in `EDA.ipynb`. \n",
    "\n",
    "Different types had win ratios varying by as much as 30%. Dragon, Flying, and Dark types had the highest win ratios, while Rock, Fairy, and Bug types had the lowest.\n",
    "\n",
    "Speed was the only stat that showed significant differences between battle winners and losers. **Battle winners noticeably tended to have a higher speed stat, while battle losers had lower ones.** Attack and special defense also had slight variation where winners tended to have higher stats than losers, but the difference was far less significant."
   ]
  }
 ],
 "metadata": {
  "interpreter": {
   "hash": "d4d1e4263499bec80672ea0156c357c1ee493ec2b1c70f0acce89fc37c4a6abe"
  },
  "kernelspec": {
   "display_name": "Python 3.9.7 ('base')",
   "language": "python",
   "name": "python3"
  },
  "language_info": {
   "codemirror_mode": {
    "name": "ipython",
    "version": 3
   },
   "file_extension": ".py",
   "mimetype": "text/x-python",
   "name": "python",
   "nbconvert_exporter": "python",
   "pygments_lexer": "ipython3",
   "version": "3.9.7"
  },
  "orig_nbformat": 4
 },
 "nbformat": 4,
 "nbformat_minor": 2
}
